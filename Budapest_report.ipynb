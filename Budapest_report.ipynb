{
 "cells": [
  {
   "cell_type": "markdown",
   "metadata": {},
   "source": [
    "# Finding a place for a new ruin pub in Budapest"
   ]
  },
  {
   "cell_type": "markdown",
   "metadata": {},
   "source": [
    "## IBM Data Science Capstone Project"
   ]
  },
  {
   "cell_type": "markdown",
   "metadata": {},
   "source": [
    "### Introduction/Business Problem"
   ]
  },
  {
   "cell_type": "markdown",
   "metadata": {},
   "source": [
    "In the present research, I am looking to answer the following question: if an investor wants to open a so-called ruin pub in Budapest, then in which of the 23 districts of Budapest would it be worth opening the pub?\n",
    "\n",
    "The ruin pub is a restaurant/pub developed from a ruined area, or building that is architecturally deliberately left in a ruined state. The Szimplakert, the first ruin pub in Budapest opened in 2004, followed by other pubs in the 7th district of Budapest and later spread to other inner districts. The interesting idea became an alternative fashion trend in Budapest and then quickly became very popular among tourists as well. From 2010 onwards, more and more new places have been opened, but **in my opinion it would still be worth opening another ruin pub, but in a saturated market, the location has to be chosen well.**"
   ]
  },
  {
   "cell_type": "markdown",
   "metadata": {},
   "source": [
    "### Data to use"
   ]
  },
  {
   "cell_type": "markdown",
   "metadata": {},
   "source": [
    "In the research, I will use the **Foursquare spatial data** to examine the most popular venues in each district, and use other data (e.g., population density, number of tourists, average property prices, etc.) to select the districts where it may be most worthwhile to open a ruin pub.\n",
    "\n",
    "I will get the districts of Budapest and the coordinates from the wikipedia page of Budapest (https://hu.wikipedia.org/wiki/Budapest_ker%C3%BCletei). \n",
    "\n",
    "Besides the Foursquare data, i will use other **statistical data (guest nights)** to find the optimal place for the ruin pub. These datatables will be downloaded from the Hungarian Statistical Office's dedicated site for territorial data (http://statinfo.ksh.hu/).\n",
    "\n",
    "The **average house prices** data will be downloaded from the following site: https://www.ingatlannet.hu/"
   ]
  },
  {
   "cell_type": "markdown",
   "metadata": {},
   "source": [
    "### Methodology"
   ]
  },
  {
   "cell_type": "markdown",
   "metadata": {},
   "source": [
    "The backbone of the research is the use of Foursqure spatial data. Using the Foursqure API, **the most important (trending) venues are collected in each of the the districts of Budapest**. The number of venues are collected in a 1000m circle to the center of each district, and limited to 100 venues per district. The collected **venues are classified into clusters using the k-means clustering algorithm**. My goal is to see which districts fall into a category based on Foursquare locations. Currently the 5th (Belvaros) and the 7th districts (Erzsebetvaros) have the most ruin pubs. There would be too much competition here, so it would probably not be a good idea to open another ruin pub here, but based on the cluster analysis, districts belonging to the same cluster as these districts may come into play.\n",
    "\n",
    "This method will be supplemented with the analysis of statistical data. First, I will look at the **number of guest nights in each district**, which is one of the most important factors regarding the opening of a new ruin pub, because **the vast majority of visitors in these bars are tourists**, mostly foreigb tourists.\n",
    "\n",
    "After that I will **analyze house prices by district**. The original plan would have been the analysis of rent costs but no data were available, so I started from the premise that there is a linear relationship between rent costs and house prices, so the rent costs are high where house prices are also high. Regarding the house prices **the better choice for the ruin pub will be the districts where housing prices are low**, so rent cost are likely to be low as well.\n",
    "\n",
    "Ultimately, I will put the above analyzes side by side and so I will choose which districts are best suited to host a new ruin pub."
   ]
  },
  {
   "cell_type": "markdown",
   "metadata": {},
   "source": [
    "### Results"
   ]
  },
  {
   "cell_type": "markdown",
   "metadata": {},
   "source": [
    "**Clustering:**  \n",
    "I decided to go with 4 clusters and after the k-means clustering the four groups were the following:  \n",
    "    - *Cluster 0* contained 11 districts including the 7th distrcit (Erzsebetvaros) and the 5th district (Belvaros)with mostly café shops, bars and hotels in first places. Looking at the map we can se that these are the inner districts of Budapest  \n",
    "    - *Cluster 1* contained 5 districts with mostly grocery stores, bus tops and parks in first places  \n",
    "    - *Cluster 2* contained 6 districts including the with very similar characteristics to the *Cluster 1* but further from the city center  \n",
    "    - *Cluster 3* contained only 1 district (Soroksar) which is the most rural district of Budapest so that farm come in first place is not a surprise  \n",
    "  \n",
    "**Guest nights:**  \n",
    "So we can see that the **most guest nights are in those districts where the majority of ruin pubs are located (5th and 7th).** So the hypothesis that there is a strong correlation between the number of ruin pubs and the number of guest nights is probably right.\n",
    "**Other districts with a lot of guest nights are the 6th, 8th** followed by the 13th, 1st and 11th. \n",
    "From 15th to 23rd districts there are much fewer guest nights and it is not a surprise becase those are the outer districts.  \n",
    "  \n",
    "**House prices:**  \n",
    "The house prices are clearly the highest in the 5th district followed by the 1st, 12th, 2nd and 6th. "
   ]
  },
  {
   "cell_type": "markdown",
   "metadata": {},
   "source": [
    "### Discussion and conclusion"
   ]
  },
  {
   "cell_type": "markdown",
   "metadata": {},
   "source": [
    "We have the results from the clustering and the analysis of guest nights and house prices. It is time to compare the results and pick a district (or districts) for the ruin pub.    \n",
    "**First we cut the suitable locations according to the cluster analysis.** As we mentioned earlier the districts with the most ruin pubs today are the 7th distrcit (Erzsebetvaros) and the 5th district (Belvaros). So we assume that districts in their clusters are the best suited for the new ruin pub. That way **we can drop 12 districts from the suitable locations, and have the 11 districts from *Cluster 1*.**  \n",
    "\n",
    "Now we know that there is a strong correlation between the **guest nights** and the number of ruin pubs, so let's choose the districts with the most guest nights. As we can see from the bar chart there are **four districts with high values: 5th, 7th, 6th, 8th.**  \n",
    "\n",
    "Looking at the house prices its clear that the lowest prices are in the outer districts which were excluded in the cluster analysis. **From the 11 districts in *Cluster 1* the lowest prices are in the 4th, 8th and 10th districts.**  \n",
    "\n",
    "So looking at the results of our analysis and putting together the data **there is only one districts that got everything we are looking for: District 8th (Jozsefvaros).**\n",
    "It is in *Cluster 0*, there were a lot of guest nights in 2016 and the house prices (and thus the rent costs) are one of the lowest from the inner districts. **So it is the perfect place to open a new ruin pub.**"
   ]
  }
 ],
 "metadata": {
  "kernelspec": {
   "display_name": "Python 3",
   "language": "python",
   "name": "python3"
  },
  "language_info": {
   "codemirror_mode": {
    "name": "ipython",
    "version": 3
   },
   "file_extension": ".py",
   "mimetype": "text/x-python",
   "name": "python",
   "nbconvert_exporter": "python",
   "pygments_lexer": "ipython3",
   "version": "3.8.5"
  }
 },
 "nbformat": 4,
 "nbformat_minor": 4
}

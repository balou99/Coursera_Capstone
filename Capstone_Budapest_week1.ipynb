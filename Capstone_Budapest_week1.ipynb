{
 "cells": [
  {
   "cell_type": "markdown",
   "metadata": {},
   "source": [
    "# Finding a place for a new ruin pub in Budapest"
   ]
  },
  {
   "cell_type": "markdown",
   "metadata": {},
   "source": [
    "## IBM Data Science Capstone Project"
   ]
  },
  {
   "cell_type": "markdown",
   "metadata": {},
   "source": [
    "### Introduction/Business Problem"
   ]
  },
  {
   "cell_type": "markdown",
   "metadata": {},
   "source": [
    "In the present research, I am looking to answer the following question: if an investor wants to open a so-called ruin pub in Budapest, then in which of the 23 districts of Budapest would it be worth opening the pub?\n",
    "\n",
    "The ruin pub is a restaurant/pub developed from a ruined area, or building that is architecturally deliberately left in a ruined state. The Simple Garden, the first ruin pub in Budapest opened in 2004, followed by other pubs in the 7th district of Budapest and later spread to other inner districts. The interesting idea became an alternative fashion trend in Budapest and then quickly became very popular among tourists as well. From 2010 onwards, more and more new places have been opened, but in my opinion it would still be worth opening another ruin pub, but in a saturated market, the location has to be chosen well."
   ]
  },
  {
   "cell_type": "markdown",
   "metadata": {},
   "source": [
    "### Data to use"
   ]
  },
  {
   "cell_type": "markdown",
   "metadata": {},
   "source": [
    "In the research, I will use the Foursquare API to examine the most popular locations in each district, and use other data (e.g., population density, number of tourists, average property prices, etc.) to select the districts where it may be most worthwhile to open a ruin pub.\n",
    "\n",
    "I will get the districts of Budapest and the coordinates from the wikipedia page of Budapest (https://hu.wikipedia.org/wiki/Budapest_ker%C3%BCletei). \n",
    "\n",
    "Besides the Foursquare data, i will use other statistical data to find the optimal place for the ruin pub. These datatables will be downloaded from the Hungarian Statistical Office's dedicated site for territorial data (http://statinfo.ksh.hu/).\n",
    "\n",
    "The average property prices data will be downloaded from the following site: https://www.ingatlannet.hu/"
   ]
  }
 ],
 "metadata": {
  "kernelspec": {
   "display_name": "Python 3",
   "language": "python",
   "name": "python3"
  },
  "language_info": {
   "codemirror_mode": {
    "name": "ipython",
    "version": 3
   },
   "file_extension": ".py",
   "mimetype": "text/x-python",
   "name": "python",
   "nbconvert_exporter": "python",
   "pygments_lexer": "ipython3",
   "version": "3.8.5"
  }
 },
 "nbformat": 4,
 "nbformat_minor": 4
}
